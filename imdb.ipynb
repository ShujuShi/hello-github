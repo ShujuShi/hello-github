{
  "nbformat": 4,
  "nbformat_minor": 0,
  "metadata": {
    "colab": {
      "name": "Untitled1.ipynb",
      "version": "0.3.2",
      "provenance": [],
      "include_colab_link": true
    },
    "kernelspec": {
      "name": "python2",
      "display_name": "Python 2"
    }
  },
  "cells": [
    {
      "cell_type": "markdown",
      "metadata": {
        "id": "view-in-github",
        "colab_type": "text"
      },
      "source": [
        "[View in Colaboratory](https://colab.research.google.com/github/ShujuShi/hello-github/blob/master/imdb.ipynb)"
      ]
    },
    {
      "metadata": {
        "id": "vQgEFOGV__9O",
        "colab_type": "code",
        "colab": {
          "base_uri": "https://localhost:8080/",
          "height": 71
        },
        "outputId": "d0b39ebf-b818-48a9-9596-722574ba55c8"
      },
      "cell_type": "code",
      "source": [
        "import tensorflow as tf\n",
        "from tensorflow import keras\n",
        "\n",
        "imdb = keras.datasets.imdb\n",
        "(train_data, train_labels), (test_data, test_labels) = imdb.load_data(num_words=10000)"
      ],
      "execution_count": 1,
      "outputs": [
        {
          "output_type": "stream",
          "text": [
            "Downloading data from https://s3.amazonaws.com/text-datasets/imdb.npz\n",
            "17465344/17464789 [==============================] - 1s 0us/step\n",
            "17473536/17464789 [==============================] - 1s 0us/step\n"
          ],
          "name": "stdout"
        }
      ]
    },
    {
      "metadata": {
        "id": "he0FoPqvBSG4",
        "colab_type": "code",
        "colab": {
          "base_uri": "https://localhost:8080/",
          "height": 35
        },
        "outputId": "15ffc609-54a7-4740-b4f5-08437e617c8f"
      },
      "cell_type": "code",
      "source": [
        "print(\"training entries:{},labels: {}\".format(len(train_data), len(train_labels)))"
      ],
      "execution_count": 2,
      "outputs": [
        {
          "output_type": "stream",
          "text": [
            "training entries:25000,labels: 25000\n"
          ],
          "name": "stdout"
        }
      ]
    },
    {
      "metadata": {
        "id": "xLJU5x6vB5qu",
        "colab_type": "code",
        "colab": {
          "base_uri": "https://localhost:8080/",
          "height": 55
        },
        "outputId": "68e36a7c-cfcd-4a4d-a512-b89f6cbddad3"
      },
      "cell_type": "code",
      "source": [
        "print(train_data[0])"
      ],
      "execution_count": 3,
      "outputs": [
        {
          "output_type": "stream",
          "text": [
            "[1, 14, 22, 16, 43, 530, 973, 1622, 1385, 65, 458, 4468, 66, 3941, 4, 173, 36, 256, 5, 25, 100, 43, 838, 112, 50, 670, 2, 9, 35, 480, 284, 5, 150, 4, 172, 112, 167, 2, 336, 385, 39, 4, 172, 4536, 1111, 17, 546, 38, 13, 447, 4, 192, 50, 16, 6, 147, 2025, 19, 14, 22, 4, 1920, 4613, 469, 4, 22, 71, 87, 12, 16, 43, 530, 38, 76, 15, 13, 1247, 4, 22, 17, 515, 17, 12, 16, 626, 18, 2, 5, 62, 386, 12, 8, 316, 8, 106, 5, 4, 2223, 5244, 16, 480, 66, 3785, 33, 4, 130, 12, 16, 38, 619, 5, 25, 124, 51, 36, 135, 48, 25, 1415, 33, 6, 22, 12, 215, 28, 77, 52, 5, 14, 407, 16, 82, 2, 8, 4, 107, 117, 5952, 15, 256, 4, 2, 7, 3766, 5, 723, 36, 71, 43, 530, 476, 26, 400, 317, 46, 7, 4, 2, 1029, 13, 104, 88, 4, 381, 15, 297, 98, 32, 2071, 56, 26, 141, 6, 194, 7486, 18, 4, 226, 22, 21, 134, 476, 26, 480, 5, 144, 30, 5535, 18, 51, 36, 28, 224, 92, 25, 104, 4, 226, 65, 16, 38, 1334, 88, 12, 16, 283, 5, 16, 4472, 113, 103, 32, 15, 16, 5345, 19, 178, 32]\n"
          ],
          "name": "stdout"
        }
      ]
    },
    {
      "metadata": {
        "id": "cAMFLLgAB9E2",
        "colab_type": "code",
        "colab": {
          "base_uri": "https://localhost:8080/",
          "height": 35
        },
        "outputId": "d29f1181-fda2-49ed-dda2-92d9f0b2c117"
      },
      "cell_type": "code",
      "source": [
        "len(train_data[0]), len(train_data[1])"
      ],
      "execution_count": 4,
      "outputs": [
        {
          "output_type": "execute_result",
          "data": {
            "text/plain": [
              "(218, 189)"
            ]
          },
          "metadata": {
            "tags": []
          },
          "execution_count": 4
        }
      ]
    },
    {
      "metadata": {
        "id": "gRjHjqF9CO1m",
        "colab_type": "code",
        "colab": {
          "base_uri": "https://localhost:8080/",
          "height": 18089
        },
        "outputId": "c0c3ac7f-1909-434e-fcb0-b0514805aa97"
      },
      "cell_type": "code",
      "source": [
        "word_index = imdb.get_word_index()\n",
        "word_index"
      ],
      "execution_count": 6,
      "outputs": [
        {
          "output_type": "stream",
          "text": [
            "Downloading data from https://s3.amazonaws.com/text-datasets/imdb_word_index.json\n",
            "1646592/1641221 [==============================] - 0s 0us/step\n",
            "1654784/1641221 [==============================] - 0s 0us/step\n"
          ],
          "name": "stdout"
        },
        {
          "output_type": "execute_result",
          "data": {
            "text/plain": [
              "{u'fawn': 34701,\n",
              " u'tsukino': 52006,\n",
              " u'nunnery': 52007,\n",
              " u'sonja': 16816,\n",
              " u'vani': 63951,\n",
              " u'woods': 1408,\n",
              " u'spiders': 16115,\n",
              " u'hanging': 2345,\n",
              " u'woody': 2289,\n",
              " u'trawling': 52008,\n",
              " u\"hold's\": 52009,\n",
              " u'comically': 11307,\n",
              " u'localized': 40830,\n",
              " u'disobeying': 30568,\n",
              " u\"'royale\": 52010,\n",
              " u\"harpo's\": 40831,\n",
              " u'canet': 52011,\n",
              " u'aileen': 19313,\n",
              " u'acurately': 52012,\n",
              " u\"diplomat's\": 52013,\n",
              " u'rickman': 25242,\n",
              " u'rumbustious': 52014,\n",
              " u'familiarness': 52015,\n",
              " u\"spider'\": 52016,\n",
              " u'hahahah': 68804,\n",
              " u\"wood'\": 52017,\n",
              " u'transvestism': 40833,\n",
              " u\"hangin'\": 34702,\n",
              " u'screaming': 1927,\n",
              " u'seamier': 40834,\n",
              " u'wooded': 34703,\n",
              " u'bravora': 52018,\n",
              " u'grueling': 16817,\n",
              " u'wooden': 1636,\n",
              " u'wednesday': 16818,\n",
              " u\"'prix\": 52019,\n",
              " u'altagracia': 34704,\n",
              " u'circuitry': 52020,\n",
              " u'crotch': 11585,\n",
              " u'busybody': 57766,\n",
              " u\"tart'n'tangy\": 52021,\n",
              " u'pantheistic': 52022,\n",
              " u'thrace': 52023,\n",
              " u\"tom's\": 11038,\n",
              " u'snuggles': 52025,\n",
              " u\"frasier's\": 52026,\n",
              " u'complainers': 52027,\n",
              " u'templarios': 52125,\n",
              " u'272': 40835,\n",
              " u'273': 52028,\n",
              " u'zaniacs': 52130,\n",
              " u'275': 34706,\n",
              " u'consenting': 27631,\n",
              " u'snuggled': 40836,\n",
              " u'inanimate': 15492,\n",
              " u'uality': 52030,\n",
              " u'bronte': 11926,\n",
              " u'errors': 4010,\n",
              " u'dialogs': 3230,\n",
              " u'hp': 23593,\n",
              " u\"yomada's\": 52031,\n",
              " u\"madman's\": 34707,\n",
              " u'dialoge': 30585,\n",
              " u'usenet': 52033,\n",
              " u'videodrome': 40837,\n",
              " u\"kid'\": 26338,\n",
              " u'pawed': 52034,\n",
              " u\"'girlfriend'\": 30569,\n",
              " u\"'pleasure\": 52035,\n",
              " u\"'reloaded'\": 52036,\n",
              " u\"kazakos'\": 40839,\n",
              " u'rocque': 52037,\n",
              " u'mailings': 52038,\n",
              " u'brainwashed': 11927,\n",
              " u'mcanally': 16819,\n",
              " u\"tom''\": 52039,\n",
              " u'kurupt': 25243,\n",
              " u'affiliated': 21905,\n",
              " u'babaganoosh': 52040,\n",
              " u\"noe's\": 40840,\n",
              " u'quart': 40841,\n",
              " u'kids': 359,\n",
              " u'uplifting': 5034,\n",
              " u'controversy': 7093,\n",
              " u'kida': 21906,\n",
              " u'kidd': 23379,\n",
              " u\"error'\": 52041,\n",
              " u'neurologist': 52042,\n",
              " u'spotty': 18510,\n",
              " u'cobblers': 30570,\n",
              " u'projection': 9878,\n",
              " u'fastforwarding': 40842,\n",
              " u'sters': 52043,\n",
              " u\"eggar's\": 52044,\n",
              " u'etherything': 52045,\n",
              " u'airball': 34708,\n",
              " u'unsinkable': 25244,\n",
              " u'stern': 7180,\n",
              " u\"cervi's\": 52046,\n",
              " u'dnd': 40844,\n",
              " u'dna': 11586,\n",
              " u'insecurity': 20598,\n",
              " u\"'reboot'\": 52047,\n",
              " u'trelkovsky': 11037,\n",
              " u'jaekel': 52048,\n",
              " u'sidebars': 52049,\n",
              " u\"sforza's\": 52050,\n",
              " u'distortions': 17633,\n",
              " u\"bynes'\": 69999,\n",
              " u'sermons': 30602,\n",
              " u'7ft': 40846,\n",
              " u'boobage': 52052,\n",
              " u\"o'bannon's\": 52053,\n",
              " u'populations': 23380,\n",
              " u'chulak': 52054,\n",
              " u'mesmerize': 27633,\n",
              " u'quinnell': 52055,\n",
              " u'yahoo': 10307,\n",
              " u'peahi': 52056,\n",
              " u'meteorologist': 52057,\n",
              " u'beswick': 42577,\n",
              " u'boorman': 15493,\n",
              " u'ravensbr\\xfcck': 51678,\n",
              " u'voicework': 40847,\n",
              " u\"ster'\": 52058,\n",
              " u'blustering': 22922,\n",
              " u'intake': 27634,\n",
              " u'morally': 5621,\n",
              " u'sky\\xa1\\xa8': 69580,\n",
              " u'jumbling': 40849,\n",
              " u'bowersock': 52060,\n",
              " u\"'porky's'\": 52061,\n",
              " u'gershon': 16821,\n",
              " u'ludicrosity': 40850,\n",
              " u'coprophilia': 52062,\n",
              " u'expressively': 40851,\n",
              " u\"india's\": 19500,\n",
              " u\"post's\": 34710,\n",
              " u'wana': 52063,\n",
              " u'wang': 5283,\n",
              " u'wand': 30571,\n",
              " u'wane': 25245,\n",
              " u'disparagement': 52064,\n",
              " u'titanium': 34711,\n",
              " u'pinta': 40852,\n",
              " u'want': 178,\n",
              " u'pinto': 30572,\n",
              " u'whoopdedoodles': 52065,\n",
              " u'tchaikovsky': 21908,\n",
              " u'travel': 2103,\n",
              " u\"'victory'\": 52066,\n",
              " u'copious': 11928,\n",
              " u\"chapters'\": 52067,\n",
              " u'barbra': 6702,\n",
              " u'uselessness': 30573,\n",
              " u\"wan'\": 52068,\n",
              " u'assimilated': 27635,\n",
              " u'petiot': 16116,\n",
              " u'dinosaurs': 3930,\n",
              " u'wrong': 352,\n",
              " u'seda': 52070,\n",
              " u'stollen': 52071,\n",
              " u'sentencing': 34712,\n",
              " u'ouroboros': 40853,\n",
              " u'assimilates': 40854,\n",
              " u'colorfully': 40855,\n",
              " u'glenne': 27636,\n",
              " u\"'caricature'\": 70418,\n",
              " u'subplots': 4760,\n",
              " u'kiloton': 52073,\n",
              " u'chandon': 23381,\n",
              " u\"effect'\": 34713,\n",
              " u'flawlessness': 88437,\n",
              " u'snugly': 27637,\n",
              " u'kuei': 40856,\n",
              " u'welcomed': 9092,\n",
              " u'dishonor': 30071,\n",
              " u'concurrence': 52075,\n",
              " u'stoicism': 23382,\n",
              " u\"beroemd'\": 52077,\n",
              " u'butcher': 6703,\n",
              " u\"melfi's\": 40857,\n",
              " u'aargh': 30623,\n",
              " u'playhouse': 20599,\n",
              " u'wickedly': 11308,\n",
              " u'fit': 1180,\n",
              " u'labratory': 52078,\n",
              " u'lifeline': 40859,\n",
              " u'bringing': 2338,\n",
              " u'fix': 4287,\n",
              " u'cineliterate': 52079,\n",
              " u'fic': 52080,\n",
              " u'fia': 52081,\n",
              " u'fig': 34714,\n",
              " u'fmvs': 52082,\n",
              " u'fie': 52083,\n",
              " u'reentered': 52084,\n",
              " u'fin': 30574,\n",
              " u'doctresses': 52085,\n",
              " u'fil': 52086,\n",
              " u'zucker': 12606,\n",
              " u'ached': 31931,\n",
              " u'counsil': 52088,\n",
              " u'paterfamilias': 52089,\n",
              " u'songwriter': 13885,\n",
              " u'shivam': 34715,\n",
              " u'hurting': 9654,\n",
              " u'effects': 299,\n",
              " u'kid\\xf4': 83921,\n",
              " u'slauther': 52090,\n",
              " u\"'flame'\": 52091,\n",
              " u'broiler': 70420,\n",
              " u'interwhined': 52093,\n",
              " u'whacking': 27638,\n",
              " u'bartok': 52094,\n",
              " u'barton': 8775,\n",
              " u'frewer': 21909,\n",
              " u\"fi'\": 52095,\n",
              " u'ingrid': 6192,\n",
              " u'stribor': 30575,\n",
              " u'approporiately': 52096,\n",
              " u'wobblyhand': 52097,\n",
              " u'tantalisingly': 52098,\n",
              " u'ankylosaurus': 52099,\n",
              " u'parasites': 17634,\n",
              " u'childen': 52100,\n",
              " u\"jenkins'\": 52101,\n",
              " u'metafiction': 52102,\n",
              " u'golem': 17635,\n",
              " u'indiscretion': 40860,\n",
              " u\"reeves'\": 23383,\n",
              " u\"inamorata's\": 57781,\n",
              " u'brittannica': 52104,\n",
              " u'adapt': 7916,\n",
              " u\"russo's\": 30576,\n",
              " u'guitarists': 48246,\n",
              " u'abbott': 10553,\n",
              " u'abbots': 40861,\n",
              " u'lanisha': 17649,\n",
              " u'magickal': 40863,\n",
              " u'mattter': 52105,\n",
              " u\"'willy\": 52106,\n",
              " u'pumpkins': 34716,\n",
              " u'stuntpeople': 52107,\n",
              " u'fi\\x85': 84457,\n",
              " u'estimate': 30577,\n",
              " u'ugghhh': 40864,\n",
              " u'gameplay': 11309,\n",
              " u\"wern't\": 52108,\n",
              " u'rebels\\x85': 84863,\n",
              " u\"n'sync\": 40865,\n",
              " u'sickeningly': 16117,\n",
              " u'chiara': 40866,\n",
              " u'disturbed': 4011,\n",
              " u'portmanteau': 40867,\n",
              " u'ineffectively': 52109,\n",
              " u\"duchonvey's\": 82143,\n",
              " u\"nasty'\": 37519,\n",
              " u'purpose': 1285,\n",
              " u'lazers': 52112,\n",
              " u'breed': 5284,\n",
              " u'kaliganj': 52113,\n",
              " u'popularism': 52114,\n",
              " u\"damme's\": 18511,\n",
              " u'stylistics': 30578,\n",
              " u'mindgaming': 52115,\n",
              " u\"1997'\": 52116,\n",
              " u\"'corny'\": 52117,\n",
              " u'boerner': 34718,\n",
              " u'olds': 6792,\n",
              " u'bakelite': 52118,\n",
              " u'renovated': 27639,\n",
              " u'forrester': 27640,\n",
              " u'timid': 12004,\n",
              " u'gaskets': 52024,\n",
              " u'needed': 884,\n",
              " u'smight': 34719,\n",
              " u'master': 1297,\n",
              " u\"edie's\": 25905,\n",
              " u'seeber': 40868,\n",
              " u'hiya': 52120,\n",
              " u'fuzziness': 52121,\n",
              " u'genesis': 14897,\n",
              " u'rewards': 12607,\n",
              " u'enthrall': 30579,\n",
              " u'nemesis\\x85': 54439,\n",
              " u'splendiferous': 53089,\n",
              " u\"recollection's\": 52122,\n",
              " u'mutilated': 11039,\n",
              " u'fatherlands': 52123,\n",
              " u\"fischer's\": 52124,\n",
              " u'positively': 5399,\n",
              " u'270': 34705,\n",
              " u'ahmed': 34720,\n",
              " u'zatoichi': 9836,\n",
              " u'miniatures': 20046,\n",
              " u'anniversaries': 52127,\n",
              " u\"helm's\": 30580,\n",
              " u\"'work'\": 52128,\n",
              " u'exclaimed': 34721,\n",
              " u\"'unfunny'\": 52129,\n",
              " u'274': 52029,\n",
              " u'feeling': 544,\n",
              " u\"wanda's\": 52131,\n",
              " u'dolan': 33266,\n",
              " u'kiernan': 46193,\n",
              " u'278': 52133,\n",
              " u'peacoat': 52134,\n",
              " u'brawny': 40870,\n",
              " u'mishra': 40871,\n",
              " u'worlders': 40872,\n",
              " u'protags': 52135,\n",
              " u'skullcap': 52136,\n",
              " u'pompous': 8288,\n",
              " u'affairs': 5622,\n",
              " u'wholesome': 7799,\n",
              " u'hymen': 52137,\n",
              " u'paramedics': 25246,\n",
              " u'unpersons': 52138,\n",
              " u'heavyarms': 52139,\n",
              " u'affaire': 52140,\n",
              " u'coulisses': 52141,\n",
              " u'hymer': 40873,\n",
              " u'kremlin': 52142,\n",
              " u'shipments': 30581,\n",
              " u'pixilated': 52143,\n",
              " u\"'00s\": 30582,\n",
              " u'diminishing': 18512,\n",
              " u'cinematic': 1357,\n",
              " u'resonates': 14898,\n",
              " u'simplify': 40874,\n",
              " u'tensely': 70427,\n",
              " u'temptresses': 40876,\n",
              " u'reverence': 16822,\n",
              " u'resonated': 19502,\n",
              " u'dailey': 34722,\n",
              " u'attach\\xe9s': 42050,\n",
              " u'treize': 27641,\n",
              " u'majo': 52145,\n",
              " u'kiya': 21910,\n",
              " u'woolnough': 52146,\n",
              " u'thanatos': 39797,\n",
              " u'plays\\x85jack': 55347,\n",
              " u'sandoval': 35731,\n",
              " u'dorama': 40879,\n",
              " u\"o'shaughnessy\": 52147,\n",
              " u'tech': 4988,\n",
              " u'fugitives': 32018,\n",
              " u'teck': 30583,\n",
              " u'purged': 52149,\n",
              " u'saying': 657,\n",
              " u\"martians'\": 41095,\n",
              " u'norliss': 23418,\n",
              " u'dickey': 27642,\n",
              " u'dicker': 52152,\n",
              " u\"'sependipity\": 52153,\n",
              " u'padded': 8422,\n",
              " u'ordell': 57792,\n",
              " u\"sturges'\": 40882,\n",
              " u'independentcritics': 52154,\n",
              " u'tempted': 5745,\n",
              " u\"atkinson's\": 34724,\n",
              " u'hounded': 25247,\n",
              " u'apace': 52155,\n",
              " u'clicked': 15494,\n",
              " u\"'humor'\": 30584,\n",
              " u\"martino's\": 17177,\n",
              " u\"'supporting\": 52156,\n",
              " u'warmongering': 52032,\n",
              " u\"zemeckis's\": 34725,\n",
              " u'lube': 21911,\n",
              " u\"ernest's\": 70431,\n",
              " u'plate': 7476,\n",
              " u'plata': 40883,\n",
              " u'sturgess': 40884,\n",
              " u\"nerds'\": 40885,\n",
              " u'plato': 20600,\n",
              " u'plath': 34726,\n",
              " u'platt': 40886,\n",
              " u'mcnab': 52159,\n",
              " u'clumsiness': 27643,\n",
              " u'altogether': 3899,\n",
              " u'rugged': 9093,\n",
              " u'bicenntinial': 52160,\n",
              " u'skaal': 40887,\n",
              " u'droning': 14360,\n",
              " u'lds': 8776,\n",
              " u'jaguar': 21912,\n",
              " u\"cale's\": 34727,\n",
              " u'nicely': 1777,\n",
              " u'patch': 10086,\n",
              " u'kerkhof': 50202,\n",
              " u\"leader's\": 52161,\n",
              " u'seriously\\x85': 49806,\n",
              " u'circling': 19503,\n",
              " u\"'movie\": 27644,\n",
              " u'uncomfirmed': 52162,\n",
              " u'heirloom': 40888,\n",
              " u\"'stargate'\": 52164,\n",
              " u'pinoy': 40889,\n",
              " u'conchatta': 40890,\n",
              " u'broeke': 41128,\n",
              " u'advisedly': 40891,\n",
              " u\"barker's\": 17636,\n",
              " u'descours': 52166,\n",
              " u'lots': 772,\n",
              " u'lotr': 9259,\n",
              " u'irs': 9879,\n",
              " u'lott': 52167,\n",
              " u'xvi': 40892,\n",
              " u'irk': 34728,\n",
              " u'irl': 52168,\n",
              " u'ira': 6887,\n",
              " u'belzer': 21913,\n",
              " u'irc': 52169,\n",
              " u'ire': 27645,\n",
              " u'requisites': 40893,\n",
              " u'discipline': 7693,\n",
              " u'lyoko': 52961,\n",
              " u'extend': 11310,\n",
              " u'nature': 873,\n",
              " u\"'dickie'\": 52170,\n",
              " u'fruits': 21460,\n",
              " u'lapping': 30586,\n",
              " u'superficial': 3900,\n",
              " u'vestment': 52171,\n",
              " u\"cabal's'\": 54638,\n",
              " u'extent': 2823,\n",
              " u'tendons': 52172,\n",
              " u\"heller's\": 52173,\n",
              " u'quagmires': 52174,\n",
              " u'miyako': 52175,\n",
              " u'moocow': 20601,\n",
              " u\"coles'\": 52176,\n",
              " u'lookit': 40895,\n",
              " u'ravenously': 52177,\n",
              " u'levitating': 40896,\n",
              " u'perfunctorily': 52178,\n",
              " u'lookin': 30587,\n",
              " u'thialnd': 88440,\n",
              " u\"lot'\": 40898,\n",
              " u'lookie': 52179,\n",
              " u'fearlessly': 34870,\n",
              " u'libyan': 52181,\n",
              " u'fondles': 40899,\n",
              " u'gopher': 35714,\n",
              " u'wearying': 40901,\n",
              " u\"nz's\": 52182,\n",
              " u'minuses': 27646,\n",
              " u'puposelessly': 52183,\n",
              " u'shandling': 52184,\n",
              " u'surname': 23384,\n",
              " u'humming': 11929,\n",
              " u\"'nother\": 40902,\n",
              " u'smackdown': 21914,\n",
              " u'underdone': 30588,\n",
              " u'frf': 40903,\n",
              " u'triviality': 52185,\n",
              " u'fro': 25248,\n",
              " u'bothers': 8777,\n",
              " u\"'kensington\": 52186,\n",
              " u'much': 73,\n",
              " u'muco': 34730,\n",
              " u'chink': 27647,\n",
              " u\"richie's\": 27648,\n",
              " u'tonino': 40904,\n",
              " u'unleavened': 52187,\n",
              " u'fry': 11587,\n",
              " u\"'tv'\": 40905,\n",
              " u'toning': 40906,\n",
              " u'obese': 14361,\n",
              " u'sensationalized': 30589,\n",
              " u'spiv': 40907,\n",
              " u'spit': 6259,\n",
              " u'fidgetting': 70437,\n",
              " u'arkin': 7364,\n",
              " u'charleton': 21915,\n",
              " u'jeon': 16823,\n",
              " u'boardroom': 21916,\n",
              " u'doubts': 4989,\n",
              " u'spin': 3084,\n",
              " u'skilfully': 30590,\n",
              " u'wildcat': 27649,\n",
              " u'unecessary': 52189,\n",
              " u'misconstrues': 52191,\n",
              " u'mesmerising': 18514,\n",
              " u'misconstrued': 40908,\n",
              " u'rescinds': 52192,\n",
              " u'prostrate': 52193,\n",
              " u'belittling': 47367,\n",
              " u'majid': 40909,\n",
              " u\"shock'\": 52194,\n",
              " u'canoeing': 34731,\n",
              " u'majin': 52195,\n",
              " u\"berkeley's\": 21917,\n",
              " u'sylke': 40910,\n",
              " u'conditioned': 14899,\n",
              " u'waddell': 40911,\n",
              " u'hyperdrive': 41188,\n",
              " u'conditioner': 34732,\n",
              " u'hone': 30591,\n",
              " u'hong': 2576,\n",
              " u'memoriam': 52198,\n",
              " u'inventively': 30592,\n",
              " u\"levant's\": 25249,\n",
              " u'portobello': 20638,\n",
              " u'remand': 52200,\n",
              " u'mummified': 19504,\n",
              " u'honk': 27650,\n",
              " u'spews': 19505,\n",
              " u'visitations': 40912,\n",
              " u'mummifies': 52201,\n",
              " u'cavanaugh': 25250,\n",
              " u'zeon': 23385,\n",
              " u\"jungle's\": 40913,\n",
              " u'chauvinistic': 19544,\n",
              " u'frenchmen': 27651,\n",
              " u'torpedoes': 52202,\n",
              " u'schlessinger': 52203,\n",
              " u'torpedoed': 34734,\n",
              " u'blister': 69876,\n",
              " u'cinefest': 52204,\n",
              " u'furlough': 34735,\n",
              " u'mainsequence': 52205,\n",
              " u'mentors': 40914,\n",
              " u'academic': 9094,\n",
              " u'stillness': 20602,\n",
              " u'academia': 40915,\n",
              " u'lonelier': 52206,\n",
              " u'nibby': 52207,\n",
              " u\"losers'\": 52208,\n",
              " u'cineastes': 40916,\n",
              " u'corporate': 4449,\n",
              " u'massaging': 40917,\n",
              " u'bellow': 30593,\n",
              " u'absurdities': 19506,\n",
              " u'expetations': 53241,\n",
              " u'nyfiken': 40918,\n",
              " u'lasse': 52209,\n",
              " u'visability': 52210,\n",
              " u\"elder'\": 52211,\n",
              " u'gainsbourg': 19023,\n",
              " u'hah': 20603,\n",
              " u'hai': 13420,\n",
              " u'upsides': 53255,\n",
              " u'hak': 25251,\n",
              " u'hal': 4311,\n",
              " u'ham': 4892,\n",
              " u'han': 8058,\n",
              " u'haa': 52213,\n",
              " u'had': 66,\n",
              " u'advancement': 11930,\n",
              " u'hag': 16825,\n",
              " u\"hand'\": 25252,\n",
              " u'hay': 13421,\n",
              " u'mcnamara': 20604,\n",
              " u\"mozart's\": 52214,\n",
              " u'hap': 25253,\n",
              " u'haq': 30594,\n",
              " u'har': 13887,\n",
              " u'has': 44,\n",
              " u'hat': 2401,\n",
              " u'hav': 40919,\n",
              " u'haw': 30595,\n",
              " u'cocked': 30596,\n",
              " u'municipal': 34927,\n",
              " u'elders': 15495,\n",
              " u'underpanted': 52216,\n",
              " u'pninson': 52217,\n",
              " u'unequivocally': 27652,\n",
              " u'palazzo': 52218,\n",
              " u\"bello'\": 52219,\n",
              " u'indicative': 12997,\n",
              " u'yawnfest': 40920,\n",
              " u'hexploitation': 52220,\n",
              " u\"loder's\": 52221,\n",
              " u'sleuthing': 27653,\n",
              " u'darkon': 40921,\n",
              " u\"'ball\": 52222,\n",
              " u\"'summer\": 52223,\n",
              " u\"'demons'\": 34935,\n",
              " u\"mormon's\": 52225,\n",
              " u\"laughton's\": 34737,\n",
              " u'debell': 52226,\n",
              " u'shipyard': 39724,\n",
              " u'unabashedly': 30597,\n",
              " u'disks': 40401,\n",
              " u'crowd': 2290,\n",
              " u'crowe': 10087,\n",
              " u\"vancouver's\": 56434,\n",
              " u'mosques': 34738,\n",
              " u'crown': 6627,\n",
              " u'culpas': 52227,\n",
              " u'captive': 8428,\n",
              " u'surrell': 53344,\n",
              " u'flowless': 52229,\n",
              " u'sheirk': 52230,\n",
              " u\"'three\": 40923,\n",
              " u\"peterson'\": 52231,\n",
              " u'ooverall': 52232,\n",
              " u'perchance': 40924,\n",
              " u'bottom': 1321,\n",
              " u'chabert': 53363,\n",
              " u'sneha': 52233,\n",
              " u'inhuman': 13888,\n",
              " u'ichii': 52234,\n",
              " u'ursla': 52235,\n",
              " u'completly': 30598,\n",
              " u'moviedom': 40925,\n",
              " u'raddick': 52236,\n",
              " u'brigades': 40926,\n",
              " u'stutter': 25254,\n",
              " u'starring': 1181,\n",
              " u\"'goal'\": 52237,\n",
              " u'caskets': 52238,\n",
              " u'willcock': 52239,\n",
              " u\"threesome's\": 52240,\n",
              " u\"mosque'\": 52241,\n",
              " u\"cover's\": 52242,\n",
              " u'spaceships': 17637,\n",
              " u'anomalous': 40927,\n",
              " u'ptsd': 27655,\n",
              " u'shirdan': 52243,\n",
              " u'gra\\xe7a': 51916,\n",
              " u'lemmings': 30599,\n",
              " u'duccio': 30600,\n",
              " u\"levene's\": 52244,\n",
              " u\"'gorby'\": 52245,\n",
              " u\"teenager's\": 25255,\n",
              " u'marshall': 5340,\n",
              " u'honeymoon': 9095,\n",
              " u'shoots': 3231,\n",
              " u'despised': 12258,\n",
              " u'okabasho': 52246,\n",
              " u'fabric': 8289,\n",
              " u'cannavale': 18515,\n",
              " u'raped': 3537,\n",
              " u\"tutt's\": 52247,\n",
              " u'grasping': 17638,\n",
              " u'despises': 18516,\n",
              " u\"thief's\": 40928,\n",
              " u'rapes': 8926,\n",
              " u'raper': 52248,\n",
              " u\"eyre'\": 27656,\n",
              " u'walchek': 52249,\n",
              " u\"elmo's\": 23386,\n",
              " u'perfumes': 40929,\n",
              " u'spurting': 21918,\n",
              " u'denoting': 52251,\n",
              " u'thesaurus': 34740,\n",
              " u\"shoot'\": 40930,\n",
              " u'bonejack': 49759,\n",
              " u'simpsonian': 52253,\n",
              " u'hebetude': 30601,\n",
              " u\"hallow's\": 34741,\n",
              " u'incinerator': 34742,\n",
              " u'congratulations': 10308,\n",
              " u'humbled': 52255,\n",
              " u\"else's\": 5924,\n",
              " u'trelkovski': 40845,\n",
              " u\"rape'\": 52256,\n",
              " u'1600s': 52257,\n",
              " u'martian': 7253,\n",
              " u'nicest': 25256,\n",
              " u'eyred': 52259,\n",
              " u'passenger': 9457,\n",
              " u'disgrace': 6041,\n",
              " u'moderne': 52260,\n",
              " u'barrymore': 5120,\n",
              " u'yankovich': 52261,\n",
              " u'moderns': 40931,\n",
              " u'studliest': 52262,\n",
              " u'bedsheet': 52263,\n",
              " u'decapitation': 14900,\n",
              " u'slurring': 52264,\n",
              " u\"'nunsploitation'\": 52265,\n",
              " u'\\x96on': 68949,\n",
              " u\"'character'\": 34743,\n",
              " u'cambodia': 9880,\n",
              " u'rebelious': 52266,\n",
              " u'pasadena': 27657,\n",
              " u'crowne': 40932,\n",
              " u\"'bedchamber\": 52267,\n",
              " u'appologize': 52269,\n",
              " u'halfassing': 52270,\n",
              " u'bops': 20605,\n",
              " u'palms': 20606,\n",
              " u\"'islands\": 52271,\n",
              " u'up\\x85oh': 55276,\n",
              " u'hawked': 40933,\n",
              " u'palme': 21919,\n",
              " u'unnervingly': 29285,\n",
              " u'acquaintance': 11589,\n",
              " u'palma': 5558,\n",
              " u'smelling': 21920,\n",
              " u'aragorn': 12998,\n",
              " u'hawker': 52272,\n",
              " u'hawkes': 52273,\n",
              " u'explosions': 3975,\n",
              " u'loren': 8059,\n",
              " u\"pyle's\": 52274,\n",
              " u'shootout': 6704,\n",
              " u\"mike's\": 18517,\n",
              " u\"driscoll's\": 52275,\n",
              " u'cogsworth': 40935,\n",
              " u'shoot\\x97': 67168,\n",
              " u\"britian's\": 52276,\n",
              " u'childs': 34744,\n",
              " u\"portrait's\": 52277,\n",
              " u'chain': 3626,\n",
              " u'whoever': 2497,\n",
              " u'puttered': 52278,\n",
              " u'childe': 52279,\n",
              " u'maywether': 52280,\n",
              " u'chair': 3036,\n",
              " u\"rance's\": 52281,\n",
              " u'machu': 34745,\n",
              " u'ballet': 4517,\n",
              " u'grapples': 34746,\n",
              " u'foaming': 40936,\n",
              " u'freelance': 30603,\n",
              " u\"andrea's\": 52283,\n",
              " u'coolidge': 45879,\n",
              " u'mache': 18518,\n",
              " u'balled': 52285,\n",
              " u'grappled': 40937,\n",
              " u'macha': 18519,\n",
              " u'underlining': 21921,\n",
              " u'macho': 5623,\n",
              " u'oversight': 19507,\n",
              " u'machi': 25257,\n",
              " u'verbally': 11311,\n",
              " u'tenacious': 21922,\n",
              " u'windshields': 40938,\n",
              " u'paychecks': 18557,\n",
              " u'jerk': 3396,\n",
              " u\"good'\": 11931,\n",
              " u'prancer': 34748,\n",
              " u'prances': 21923,\n",
              " u'olympus': 52286,\n",
              " u'lark': 21924,\n",
              " u'embark': 10785,\n",
              " u'gloomy': 7365,\n",
              " u'blackwood': 14350,\n",
              " u'jehaan': 52287,\n",
              " u'turaqui': 52288,\n",
              " u\"child'\": 20607,\n",
              " u'\\x85\\x85\\x85': 76046,\n",
              " u'simper': 40939,\n",
              " u'pranced': 52289,\n",
              " u'exact': 2588,\n",
              " u'unattuned': 52290,\n",
              " u'minute': 783,\n",
              " u'skewed': 16118,\n",
              " u'hodgins': 40940,\n",
              " u'skewer': 34749,\n",
              " u'rosenstein': 38765,\n",
              " u'helmit': 52292,\n",
              " u'wrestlemanias': 34750,\n",
              " u'hindered': 16826,\n",
              " u\"martha's\": 30604,\n",
              " u'cheree': 52293,\n",
              " u\"pluckin'\": 52294,\n",
              " u'ogles': 40941,\n",
              " u'heavyweight': 11932,\n",
              " u'aada': 82190,\n",
              " u'chopping': 11312,\n",
              " u'hegemonic': 41342,\n",
              " u'adorns': 40942,\n",
              " u'bagging': 36602,\n",
              " u'nobuhiro': 34751,\n",
              " u'kavogianni': 52299,\n",
              " u'antwerp': 13422,\n",
              " u'celebrated': 6538,\n",
              " u'roarke': 52300,\n",
              " u'baggins': 40943,\n",
              " u'paradoxes': 25258,\n",
              " u'matras': 52301,\n",
              " u\"nineties'\": 52302,\n",
              " u\"'craig'\": 52303,\n",
              " u'celebrates': 12999,\n",
              " u'unintentionally': 3383,\n",
              " u'drafted': 14362,\n",
              " u'climby': 52304,\n",
              " u'303': 52305,\n",
              " u'oldies': 18520,\n",
              " u'climbs': 9096,\n",
              " u'honour': 9655,\n",
              " u'plucking': 34752,\n",
              " u'305': 30074,\n",
              " u'address': 5514,\n",
              " u'menjou': 40944,\n",
              " u\"'freak'\": 42592,\n",
              " u'dwindling': 19508,\n",
              " u'benson': 9458,\n",
              " u'shamelessness': 40945,\n",
              " u'impacted': 21925,\n",
              " u'upatz': 52308,\n",
              " u'cusack': 3840,\n",
              " u\"flavia's\": 37567,\n",
              " u'effette': 52309,\n",
              " u'influx': 34753,\n",
              " u'boooooooo': 52310,\n",
              " u'dimitrova': 52311,\n",
              " u'houseman': 13423,\n",
              " u'bigas': 25259,\n",
              " u'boylen': 52312,\n",
              " u'phillipenes': 52313,\n",
              " u'fakery': 40946,\n",
              " u\"grandpa's\": 27658,\n",
              " u'darnell': 27659,\n",
              " u'undergone': 19509,\n",
              " u'handbags': 52315,\n",
              " u'perished': 21926,\n",
              " u\"jai's\": 44587,\n",
              " u'vigour': 27660,\n",
              " u'opposed': 3627,\n",
              " u'etude': 52316,\n",
              " u'doozers': 52317,\n",
              " u'photojournals': 34754,\n",
              " u'perishes': 52318,\n",
              " u'constrains': 34755,\n",
              " u'migenes': 40948,\n",
              " u'consoled': 30605,\n",
              " u'alastair': 16827,\n",
              " u'wvs': 52319,\n",
              " u'ooooooh': 52320,\n",
              " u'approving': 34756,\n",
              " u'consoles': 40949,\n",
              " u'edgeways': 52321,\n",
              " u'futureistic': 52322,\n",
              " u'rebounding': 52323,\n",
              " u'ties': 4294,\n",
              " u\"'date\": 52324,\n",
              " u'gregoire': 52325,\n",
              " u'rutherford': 21927,\n",
              " u'americanised': 34757,\n",
              " u'novikov': 82196,\n",
              " u'following': 1042,\n",
              " u'munroe': 34758,\n",
              " u\"morita'\": 52326,\n",
              " u'christenssen': 52327,\n",
              " u'oatmeal': 23106,\n",
              " u'fossey': 25260,\n",
              " u'livered': 40950,\n",
              " u'listens': 13000,\n",
              " u\"'marci\": 76164,\n",
              " u'cookery': 70459,\n",
              " u'thanking': 23387,\n",
              " u'maude': 16019,\n",
              " u'extensions': 34759,\n",
              " u'fretwell': 42821,\n",
              " u\"o'clich\\xe9s\": 57346,\n",
              " u'convincingly': 4518,\n",
              " u'fueled': 17639,\n",
              " u'mahattan': 54014,\n",
              " u\"paris's\": 40952,\n",
              " u'justi\\xe7a': 60179,\n",
              " u'vulkan': 52336,\n",
              " u'stapes': 52337,\n",
              " u'odysessy': 52338,\n",
              " u'harmon': 12259,\n",
              " u'surfing': 4252,\n",
              " u'unbelieveably': 49580,\n",
              " u\"'offed'\": 52339,\n",
              " u'finalize': 47158,\n",
              " u'quadrant': 30607,\n",
              " u'inhabiting': 19510,\n",
              " u'nebbish': 34760,\n",
              " u'forebears': 40953,\n",
              " u'skirmish': 34761,\n",
              " u'ocassionally': 52340,\n",
              " u\"'resist\": 52341,\n",
              " u'impactful': 21928,\n",
              " u'spicier': 52342,\n",
              " u'touristy': 40954,\n",
              " u\"'football'\": 52343,\n",
              " u'bien': 52344,\n",
              " u'webpage': 40955,\n",
              " u'exurbia': 52345,\n",
              " u'jucier': 52346,\n",
              " u'professors': 14901,\n",
              " u'structuring': 34762,\n",
              " u'jig': 30608,\n",
              " u'overlord': 40956,\n",
              " u'disconnect': 25261,\n",
              " u'sniffle': 82201,\n",
              " u'slimeball': 40957,\n",
              " u'jia': 40958,\n",
              " u'milked': 16828,\n",
              " u'banjoes': 40959,\n",
              " u'jim': 1237,\n",
              " u'workforces': 52348,\n",
              " u'jip': 52349,\n",
              " u'rotweiller': 52350,\n",
              " u'mundaneness': 34763,\n",
              " u\"'ninja'\": 52351,\n",
              " u\"dead'\": 11040,\n",
              " u\"cipriani's\": 40960,\n",
              " u'modestly': 20608,\n",
              " u\"professor'\": 52352,\n",
              " u'shacked': 40961,\n",
              " u'bashful': 34764,\n",
              " u'sorter': 23388,\n",
              " u'overpowering': 16120,\n",
              " u'workmanlike': 18521,\n",
              " u'henpecked': 27662,\n",
              " u'sorted': 18522,\n",
              " u\"'always\": 52355,\n",
              " u\"'baptists\": 34765,\n",
              " u'dreamcatchers': 52356,\n",
              " u\"'silence'\": 52357,\n",
              " u'hickory': 21929,\n",
              " u'ladysmith': 54111,\n",
              " u'breakumentary': 52359,\n",
              " u'didn': 15496,\n",
              " u'didi': 52360,\n",
              " u'pealing': 52361,\n",
              " u'dispite': 40962,\n",
              " u\"italy's\": 25262,\n",
              " u'instability': 21930,\n",
              " u'quarter': 6539,\n",
              " u'quartet': 12608,\n",
              " u'did\\x85': 79736,\n",
              " u\"'bleedmedry\": 52363,\n",
              " u'pahalniuk': 52364,\n",
              " u'honduras': 52365,\n",
              " u'bursting': 10786,\n",
              " u\"pablo's\": 41465,\n",
              " u'irremediably': 52367,\n",
              " u'presages': 40963,\n",
              " u'bowlegged': 57832,\n",
              " u'entering': 6260,\n",
              " u'newsradio': 76172,\n",
              " u'disasters': 8927,\n",
              " u\"giallo's\": 27663,\n",
              " u'bouyant': 40964,\n",
              " u'amerterish': 52368,\n",
              " u'rajni': 18523,\n",
              " u'leeves': 30610,\n",
              " u'macauley': 34767,\n",
              " u'seriously': 612,\n",
              " u'sugercoma': 52369,\n",
              " u'grimstead': 52370,\n",
              " u'xena': 28281,\n",
              " u\"'fairy'\": 52371,\n",
              " u'zenda': 30611,\n",
              " u\"'twins'\": 52372,\n",
              " u'realisation': 17640,\n",
              " u\"resident's\": 70464,\n",
              " u'raunchy': 7817,\n",
              " u'incentives': 40965,\n",
              " u'sonar': 76174,\n",
              " u'inwardly': 27665,\n",
              " u'crazies': 16829,\n",
              " u'crazier': 14902,\n",
              " u'grandma': 7094,\n",
              " u'napunsaktha': 52375,\n",
              " u'workmanship': 30612,\n",
              " u'reisner': 52376,\n",
              " u\"sanford's\": 61306,\n",
              " u'modest': 6108,\n",
              " u\"everything's\": 19153,\n",
              " u'hamer': 40966,\n",
              " u\"couldn't'\": 52379,\n",
              " u'quibble': 13001,\n",
              " u'socking': 52380,\n",
              " u'tingler': 21931,\n",
              " u'gutman': 52381,\n",
              " u'interviewer': 19011,\n",
              " u'lachlan': 40967,\n",
              " u'tableaus': 52382,\n",
              " u'headbanger': 52383,\n",
              " u'spoken': 2847,\n",
              " u'twined': 70466,\n",
              " u\"'road\": 23490,\n",
              " u'tableaux': 21932,\n",
              " u'\\xa39': 72557,\n",
              " u'\\xa38': 72556,\n",
              " u\"proust's\": 40968,\n",
              " u'periodical': 40969,\n",
              " u\"shoveller's\": 52385,\n",
              " u'\\xa33': 22458,\n",
              " u'\\xa32': 32852,\n",
              " u'\\xa31': 15842,\n",
              " u'\\xa30': 72559,\n",
              " u'\\xa37': 72558,\n",
              " u'\\xa36': 47111,\n",
              " u'affords': 17641,\n",
              " u'\\xa34': 29300,\n",
              " u'zo\\xe9': 36033,\n",
              " u'sloane\\x85': 78264,\n",
              " u\"yara's\": 87955,\n",
              " u'someome': 52386,\n",
              " u'lingering': 8424,\n",
              " u\"abraham's\": 41511,\n",
              " u'beesley': 34769,\n",
              " u'cherbourg': 34770,\n",
              " u'kagan': 28624,\n",
              " u'snatch': 9097,\n",
              " ...}"
            ]
          },
          "metadata": {
            "tags": []
          },
          "execution_count": 6
        }
      ]
    },
    {
      "metadata": {
        "id": "atteigL0E6Dl",
        "colab_type": "code",
        "colab": {
          "base_uri": "https://localhost:8080/",
          "height": 35
        },
        "outputId": "3ab4c472-ab2e-4a88-a3a5-d4fb4fb87751"
      },
      "cell_type": "code",
      "source": [
        "len(word_index)"
      ],
      "execution_count": 7,
      "outputs": [
        {
          "output_type": "execute_result",
          "data": {
            "text/plain": [
              "88584"
            ]
          },
          "metadata": {
            "tags": []
          },
          "execution_count": 7
        }
      ]
    },
    {
      "metadata": {
        "id": "VKq0TeJoFMvO",
        "colab_type": "code",
        "colab": {
          "base_uri": "https://localhost:8080/",
          "height": 35
        },
        "outputId": "438bcc64-1e46-49b1-95ff-f0d0eb9c3fa3"
      },
      "cell_type": "code",
      "source": [
        "word_index={k:(v+3) for k,v in word_index.items()}\n",
        "len(word_index)"
      ],
      "execution_count": 9,
      "outputs": [
        {
          "output_type": "execute_result",
          "data": {
            "text/plain": [
              "88584"
            ]
          },
          "metadata": {
            "tags": []
          },
          "execution_count": 9
        }
      ]
    },
    {
      "metadata": {
        "id": "AVuvuWM7FcoN",
        "colab_type": "code",
        "colab": {}
      },
      "cell_type": "code",
      "source": [
        "word_index[\"<PAD>\"] = 0\n",
        "word_index[\"<START>\"] = 1\n",
        "word_index[\"<UNK>\"] = 2  # unknown\n",
        "word_index[\"<UNUSED>\"] = 3"
      ],
      "execution_count": 0,
      "outputs": []
    },
    {
      "metadata": {
        "id": "TVPLghKGFyIV",
        "colab_type": "code",
        "colab": {
          "base_uri": "https://localhost:8080/",
          "height": 35
        },
        "outputId": "acea499e-73d0-43f1-cc7a-1585aa27119e"
      },
      "cell_type": "code",
      "source": [
        "word_index[\"<PAD>\"]"
      ],
      "execution_count": 13,
      "outputs": [
        {
          "output_type": "execute_result",
          "data": {
            "text/plain": [
              "0"
            ]
          },
          "metadata": {
            "tags": []
          },
          "execution_count": 13
        }
      ]
    },
    {
      "metadata": {
        "id": "aeEapCyXGB_e",
        "colab_type": "code",
        "colab": {
          "base_uri": "https://localhost:8080/",
          "height": 35
        },
        "outputId": "8199059d-d317-4c1c-fc60-8c4f740acd2a"
      },
      "cell_type": "code",
      "source": [
        "reverse_word_index = dict([(value, key) for (key, value) in word_index.items()])\n",
        "len(reverse_word_index)"
      ],
      "execution_count": 14,
      "outputs": [
        {
          "output_type": "execute_result",
          "data": {
            "text/plain": [
              "88588"
            ]
          },
          "metadata": {
            "tags": []
          },
          "execution_count": 14
        }
      ]
    },
    {
      "metadata": {
        "id": "b097uNJxGgTE",
        "colab_type": "code",
        "colab": {
          "base_uri": "https://localhost:8080/",
          "height": 35
        },
        "outputId": "5396735c-bc54-49fb-da42-4b00d772c7e1"
      },
      "cell_type": "code",
      "source": [
        "reverse_word_index[4]"
      ],
      "execution_count": 15,
      "outputs": [
        {
          "output_type": "execute_result",
          "data": {
            "text/plain": [
              "u'the'"
            ]
          },
          "metadata": {
            "tags": []
          },
          "execution_count": 15
        }
      ]
    },
    {
      "metadata": {
        "id": "jQRBRTYLGkq1",
        "colab_type": "code",
        "colab": {}
      },
      "cell_type": "code",
      "source": [
        "def decode_review(text):\n",
        "  return ' '.join([reverse_word_index.get(i,'?') for i in text])"
      ],
      "execution_count": 0,
      "outputs": []
    },
    {
      "metadata": {
        "id": "GgllRS7_GxoN",
        "colab_type": "code",
        "colab": {
          "base_uri": "https://localhost:8080/",
          "height": 55
        },
        "outputId": "3713d332-b6b6-4d6f-e7b0-c07fb1ce0c5e"
      },
      "cell_type": "code",
      "source": [
        "decode_review(train_data[0])"
      ],
      "execution_count": 19,
      "outputs": [
        {
          "output_type": "execute_result",
          "data": {
            "text/plain": [
              "u\"<START> this film was just brilliant casting location scenery story direction everyone's really suited the part they played and you could just imagine being there robert <UNK> is an amazing actor and now the same being director <UNK> father came from the same scottish island as myself so i loved the fact there was a real connection with this film the witty remarks throughout the film were great it was just brilliant so much that i bought the film as soon as it was released for <UNK> and would recommend it to everyone to watch and the fly fishing was amazing really cried at the end it was so sad and you know what they say if you cry at a film it must have been good and this definitely was also <UNK> to the two little boy's that played the <UNK> of norman and paul they were just brilliant children are often left out of the <UNK> list i think because the stars that play them all grown up are such a big profile for the whole film but these children are amazing and should be praised for what they have done don't you think the whole story was so lovely because it was true and was someone's life after all that was shared with us all\""
            ]
          },
          "metadata": {
            "tags": []
          },
          "execution_count": 19
        }
      ]
    },
    {
      "metadata": {
        "id": "Ac7K4DVlG-F9",
        "colab_type": "code",
        "colab": {}
      },
      "cell_type": "code",
      "source": [
        "train_data = keras.preprocessing.sequence.pad_sequences(train_data,\n",
        "                                                         value=word_index[\"<PAD>\"],\n",
        "                                                         padding='post',\n",
        "                                                         maxlen=256)\n",
        "test_data = keras.preprocessing.sequence.pad_sequences(test_data,\n",
        "                                                       value=word_index[\"<PAD>\"],\n",
        "                                                       padding='post',\n",
        "                                                       maxlen=256)"
      ],
      "execution_count": 0,
      "outputs": []
    },
    {
      "metadata": {
        "id": "3tl0lteLRsDD",
        "colab_type": "code",
        "colab": {
          "base_uri": "https://localhost:8080/",
          "height": 35
        },
        "outputId": "8d9b0f2d-0312-421d-9b70-eab338eca79b"
      },
      "cell_type": "code",
      "source": [
        "len(train_data[0]), len(train_data[1])"
      ],
      "execution_count": 22,
      "outputs": [
        {
          "output_type": "execute_result",
          "data": {
            "text/plain": [
              "(256, 256)"
            ]
          },
          "metadata": {
            "tags": []
          },
          "execution_count": 22
        }
      ]
    },
    {
      "metadata": {
        "id": "K0WnONpWSIiS",
        "colab_type": "code",
        "colab": {}
      },
      "cell_type": "code",
      "source": [
        "vocab_size=10000\n",
        "model=keras.Sequential()\n",
        "model.add(keras.layers.Embedding(vocab_size,16))\n",
        "model.add(keras.layers.GlobalAveragePooling1D())\n",
        "model.add(keras.layers.Dense(16, activation=tf.nn.relu))\n",
        "model.add(keras.layers.Dense(1,activation=tf.nn.sigmoid))"
      ],
      "execution_count": 0,
      "outputs": []
    },
    {
      "metadata": {
        "id": "Q8MNqwX8S8nC",
        "colab_type": "code",
        "colab": {
          "base_uri": "https://localhost:8080/",
          "height": 287
        },
        "outputId": "5329b26d-2dfd-4654-deaf-ff091539bc3b"
      },
      "cell_type": "code",
      "source": [
        "model.summary()"
      ],
      "execution_count": 24,
      "outputs": [
        {
          "output_type": "stream",
          "text": [
            "_________________________________________________________________\n",
            "Layer (type)                 Output Shape              Param #   \n",
            "=================================================================\n",
            "embedding (Embedding)        (None, None, 16)          160000    \n",
            "_________________________________________________________________\n",
            "global_average_pooling1d (Gl (None, 16)                0         \n",
            "_________________________________________________________________\n",
            "dense (Dense)                (None, 16)                272       \n",
            "_________________________________________________________________\n",
            "dense_1 (Dense)              (None, 1)                 17        \n",
            "=================================================================\n",
            "Total params: 160,289\n",
            "Trainable params: 160,289\n",
            "Non-trainable params: 0\n",
            "_________________________________________________________________\n"
          ],
          "name": "stdout"
        }
      ]
    },
    {
      "metadata": {
        "id": "500HMGYHS-tD",
        "colab_type": "code",
        "colab": {}
      },
      "cell_type": "code",
      "source": [
        "model.compile(optimizer=tf.train.AdamOptimizer(),\n",
        "             loss='binary_crossentropy',\n",
        "             metrics=['accuracy'])"
      ],
      "execution_count": 0,
      "outputs": []
    },
    {
      "metadata": {
        "id": "gB1l4SmYXWuY",
        "colab_type": "code",
        "colab": {}
      },
      "cell_type": "code",
      "source": [
        "x_val=train_data[:10000]\n",
        "partial_x_train=train_data[10000:]\n",
        "y_val=train_labels[:10000]\n",
        "partial_y_train=train_labels[10000:]"
      ],
      "execution_count": 0,
      "outputs": []
    },
    {
      "metadata": {
        "id": "gkuz1XK8XvSp",
        "colab_type": "code",
        "colab": {
          "base_uri": "https://localhost:8080/",
          "height": 1475
        },
        "outputId": "e37383ae-0d89-48af-914c-0e436d399a55"
      },
      "cell_type": "code",
      "source": [
        "history = model.fit(partial_x_train,\n",
        "                   partial_y_train,\n",
        "                   epochs=40,\n",
        "                   batch_size=512,\n",
        "                   validation_data=(x_val, y_val),\n",
        "                    verbose=1)"
      ],
      "execution_count": 27,
      "outputs": [
        {
          "output_type": "stream",
          "text": [
            "Train on 15000 samples, validate on 10000 samples\n",
            "Epoch 1/40\n",
            "15000/15000 [==============================] - 1s 70us/step - loss: 0.6951 - acc: 0.5120 - val_loss: 0.6922 - val_acc: 0.5201\n",
            "Epoch 2/40\n",
            "15000/15000 [==============================] - 1s 58us/step - loss: 0.6913 - acc: 0.5413 - val_loss: 0.6906 - val_acc: 0.5808\n",
            "Epoch 3/40\n",
            "15000/15000 [==============================] - 1s 61us/step - loss: 0.6895 - acc: 0.5963 - val_loss: 0.6891 - val_acc: 0.5663\n",
            "Epoch 4/40\n",
            "15000/15000 [==============================] - 1s 61us/step - loss: 0.6875 - acc: 0.6441 - val_loss: 0.6870 - val_acc: 0.5836\n",
            "Epoch 5/40\n",
            "15000/15000 [==============================] - 1s 61us/step - loss: 0.6844 - acc: 0.6231 - val_loss: 0.6832 - val_acc: 0.6777\n",
            "Epoch 6/40\n",
            "15000/15000 [==============================] - 1s 60us/step - loss: 0.6799 - acc: 0.7029 - val_loss: 0.6782 - val_acc: 0.7199\n",
            "Epoch 7/40\n",
            "15000/15000 [==============================] - 1s 61us/step - loss: 0.6731 - acc: 0.7345 - val_loss: 0.6712 - val_acc: 0.6957\n",
            "Epoch 8/40\n",
            "15000/15000 [==============================] - 1s 61us/step - loss: 0.6633 - acc: 0.7551 - val_loss: 0.6607 - val_acc: 0.7147\n",
            "Epoch 9/40\n",
            "15000/15000 [==============================] - 1s 61us/step - loss: 0.6497 - acc: 0.7675 - val_loss: 0.6457 - val_acc: 0.7625\n"
          ],
          "name": "stdout"
        },
        {
          "output_type": "stream",
          "text": [
            "Epoch 10/40\n",
            "15000/15000 [==============================] - 1s 61us/step - loss: 0.6312 - acc: 0.7819 - val_loss: 0.6268 - val_acc: 0.7678\n",
            "Epoch 11/40\n",
            "15000/15000 [==============================] - 1s 61us/step - loss: 0.6087 - acc: 0.7775 - val_loss: 0.6061 - val_acc: 0.7588\n",
            "Epoch 12/40\n",
            "15000/15000 [==============================] - 1s 61us/step - loss: 0.5826 - acc: 0.7919 - val_loss: 0.5793 - val_acc: 0.7826\n",
            "Epoch 13/40\n",
            "15000/15000 [==============================] - 1s 62us/step - loss: 0.5535 - acc: 0.8065 - val_loss: 0.5537 - val_acc: 0.7927\n",
            "Epoch 14/40\n",
            "15000/15000 [==============================] - 1s 62us/step - loss: 0.5244 - acc: 0.8164 - val_loss: 0.5271 - val_acc: 0.8027\n",
            "Epoch 15/40\n",
            "15000/15000 [==============================] - 1s 62us/step - loss: 0.4954 - acc: 0.8264 - val_loss: 0.5010 - val_acc: 0.8124\n",
            "Epoch 16/40\n",
            "15000/15000 [==============================] - 1s 62us/step - loss: 0.4681 - acc: 0.8358 - val_loss: 0.4772 - val_acc: 0.8216\n",
            "Epoch 17/40\n",
            "15000/15000 [==============================] - 1s 62us/step - loss: 0.4414 - acc: 0.8475 - val_loss: 0.4554 - val_acc: 0.8322\n",
            "Epoch 18/40\n",
            "15000/15000 [==============================] - 1s 61us/step - loss: 0.4175 - acc: 0.8577 - val_loss: 0.4350 - val_acc: 0.8385\n",
            "Epoch 19/40\n",
            " 3584/15000 [======>.......................] - ETA: 0s - loss: 0.4060 - acc: 0.8641"
          ],
          "name": "stdout"
        },
        {
          "output_type": "stream",
          "text": [
            "15000/15000 [==============================] - 1s 62us/step - loss: 0.3958 - acc: 0.8639 - val_loss: 0.4170 - val_acc: 0.8442\n",
            "Epoch 20/40\n",
            "15000/15000 [==============================] - 1s 62us/step - loss: 0.3762 - acc: 0.8721 - val_loss: 0.4013 - val_acc: 0.8491\n",
            "Epoch 21/40\n",
            "15000/15000 [==============================] - 1s 61us/step - loss: 0.3584 - acc: 0.8765 - val_loss: 0.3874 - val_acc: 0.8531\n",
            "Epoch 22/40\n",
            "15000/15000 [==============================] - 1s 62us/step - loss: 0.3425 - acc: 0.8809 - val_loss: 0.3754 - val_acc: 0.8575\n",
            "Epoch 23/40\n",
            "15000/15000 [==============================] - 1s 62us/step - loss: 0.3286 - acc: 0.8855 - val_loss: 0.3652 - val_acc: 0.8599\n",
            "Epoch 24/40\n",
            "15000/15000 [==============================] - 1s 62us/step - loss: 0.3154 - acc: 0.8904 - val_loss: 0.3557 - val_acc: 0.8631\n",
            "Epoch 25/40\n",
            "15000/15000 [==============================] - 1s 61us/step - loss: 0.3038 - acc: 0.8950 - val_loss: 0.3476 - val_acc: 0.8663\n",
            "Epoch 26/40\n",
            "15000/15000 [==============================] - 1s 61us/step - loss: 0.2932 - acc: 0.8978 - val_loss: 0.3405 - val_acc: 0.8678\n",
            "Epoch 27/40\n",
            "15000/15000 [==============================] - 1s 62us/step - loss: 0.2836 - acc: 0.8995 - val_loss: 0.3342 - val_acc: 0.8692\n",
            "Epoch 28/40\n",
            " 4608/15000 [========>.....................] - ETA: 0s - loss: 0.2747 - acc: 0.9052"
          ],
          "name": "stdout"
        },
        {
          "output_type": "stream",
          "text": [
            "15000/15000 [==============================] - 1s 61us/step - loss: 0.2744 - acc: 0.9035 - val_loss: 0.3283 - val_acc: 0.8720\n",
            "Epoch 29/40\n",
            "15000/15000 [==============================] - 1s 64us/step - loss: 0.2660 - acc: 0.9069 - val_loss: 0.3236 - val_acc: 0.8732\n",
            "Epoch 30/40\n",
            "15000/15000 [==============================] - 1s 61us/step - loss: 0.2588 - acc: 0.9069 - val_loss: 0.3191 - val_acc: 0.8741\n",
            "Epoch 31/40\n",
            "15000/15000 [==============================] - 1s 62us/step - loss: 0.2509 - acc: 0.9121 - val_loss: 0.3153 - val_acc: 0.8761\n",
            "Epoch 32/40\n",
            "15000/15000 [==============================] - 1s 62us/step - loss: 0.2446 - acc: 0.9149 - val_loss: 0.3118 - val_acc: 0.8767\n",
            "Epoch 33/40\n",
            "15000/15000 [==============================] - 1s 62us/step - loss: 0.2375 - acc: 0.9163 - val_loss: 0.3088 - val_acc: 0.8769\n",
            "Epoch 34/40\n",
            "15000/15000 [==============================] - 1s 62us/step - loss: 0.2314 - acc: 0.9187 - val_loss: 0.3060 - val_acc: 0.8775\n",
            "Epoch 35/40\n",
            "15000/15000 [==============================] - 1s 62us/step - loss: 0.2260 - acc: 0.9205 - val_loss: 0.3033 - val_acc: 0.8776\n",
            "Epoch 36/40\n",
            "15000/15000 [==============================] - 1s 62us/step - loss: 0.2198 - acc: 0.9225 - val_loss: 0.3013 - val_acc: 0.8791\n",
            "Epoch 37/40\n",
            " 3584/15000 [======>.......................] - ETA: 0s - loss: 0.2156 - acc: 0.9244"
          ],
          "name": "stdout"
        },
        {
          "output_type": "stream",
          "text": [
            "15000/15000 [==============================] - 1s 61us/step - loss: 0.2146 - acc: 0.9241 - val_loss: 0.2995 - val_acc: 0.8791\n",
            "Epoch 38/40\n",
            "15000/15000 [==============================] - 1s 62us/step - loss: 0.2096 - acc: 0.9257 - val_loss: 0.2972 - val_acc: 0.8803\n",
            "Epoch 39/40\n",
            "15000/15000 [==============================] - 1s 61us/step - loss: 0.2044 - acc: 0.9283 - val_loss: 0.2957 - val_acc: 0.8806\n",
            "Epoch 40/40\n",
            "15000/15000 [==============================] - 1s 61us/step - loss: 0.1996 - acc: 0.9297 - val_loss: 0.2941 - val_acc: 0.8819\n"
          ],
          "name": "stdout"
        }
      ]
    },
    {
      "metadata": {
        "id": "6M7f0gKpY3Ix",
        "colab_type": "code",
        "colab": {
          "base_uri": "https://localhost:8080/",
          "height": 53
        },
        "outputId": "9a487129-1350-48fd-b331-571b1ff13190"
      },
      "cell_type": "code",
      "source": [
        "results=model.evaluate(test_data,test_labels)\n",
        "print(results)"
      ],
      "execution_count": 28,
      "outputs": [
        {
          "output_type": "stream",
          "text": [
            "25000/25000 [==============================] - 1s 31us/step\n",
            "[0.30707242148399355, 0.874]\n"
          ],
          "name": "stdout"
        }
      ]
    },
    {
      "metadata": {
        "id": "6QvZujvfZtUR",
        "colab_type": "code",
        "colab": {
          "base_uri": "https://localhost:8080/",
          "height": 737
        },
        "outputId": "146bee16-3573-4ad0-b170-a78a2ce763ee"
      },
      "cell_type": "code",
      "source": [
        "history_dict=history.history\n",
        "history_dict['acc']"
      ],
      "execution_count": 30,
      "outputs": [
        {
          "output_type": "execute_result",
          "data": {
            "text/plain": [
              "[0.5119999998569489,\n",
              " 0.5413333335876465,\n",
              " 0.5963333334287008,\n",
              " 0.6440666665077209,\n",
              " 0.6231333330790202,\n",
              " 0.7029333334604899,\n",
              " 0.7344666666348775,\n",
              " 0.7550666664441427,\n",
              " 0.7675333331743877,\n",
              " 0.7818666663805643,\n",
              " 0.7774666664759318,\n",
              " 0.7919333332379659,\n",
              " 0.8065333334604899,\n",
              " 0.8163999999364218,\n",
              " 0.8263999998092652,\n",
              " 0.8358000000317891,\n",
              " 0.8474666664123535,\n",
              " 0.8576666666666667,\n",
              " 0.8638666664441427,\n",
              " 0.8720666664123535,\n",
              " 0.8765333331425985,\n",
              " 0.8809333331108093,\n",
              " 0.885466666952769,\n",
              " 0.8904000002543132,\n",
              " 0.8949999998410543,\n",
              " 0.8977999998410543,\n",
              " 0.899533333269755,\n",
              " 0.9035333331108093,\n",
              " 0.9069333331743876,\n",
              " 0.9069333335240682,\n",
              " 0.9121333333651225,\n",
              " 0.9148666668574015,\n",
              " 0.91626666653951,\n",
              " 0.9187333334604899,\n",
              " 0.9205333335558573,\n",
              " 0.9224666666030884,\n",
              " 0.924133333269755,\n",
              " 0.925733333047231,\n",
              " 0.9282666668891907,\n",
              " 0.929733333269755]"
            ]
          },
          "metadata": {
            "tags": []
          },
          "execution_count": 30
        }
      ]
    },
    {
      "metadata": {
        "id": "uRtB1-9UaMWp",
        "colab_type": "code",
        "colab": {
          "base_uri": "https://localhost:8080/",
          "height": 376
        },
        "outputId": "3b2f4ec8-15dc-43bf-f47a-38f50cc3e93d"
      },
      "cell_type": "code",
      "source": [
        "import matplotlib.pyplot as plt\n",
        "\n",
        "acc=history.history['acc']\n",
        "val_acc=history.history['val_acc']\n",
        "loss =history.history['loss']\n",
        "val_loss=history.history['val_loss']\n",
        "\n",
        "epochs=range(1,len(acc)+1)\n",
        "plt.plot(epochs, loss, 'bo',label='Training loss')\n",
        "plt.plot(epochs, val_loss, 'b',label='Validation loss')\n",
        "plt.title('Training and validation loss')\n",
        "plt.xlabel('Epochs')\n",
        "plt.ylabel('Loss')\n",
        "plt.legend()\n",
        "\n",
        "plt.show()"
      ],
      "execution_count": 33,
      "outputs": [
        {
          "output_type": "display_data",
          "data": {
            "image/png": "[encoded data removed]",
            "text/plain": [
              "<matplotlib.figure.Figure at 0x7fef068e7950>"
            ]
          },
          "metadata": {
            "tags": []
          }
        }
      ]
    },
    {
      "metadata": {
        "id": "qCaMs4Ahb42R",
        "colab_type": "code",
        "colab": {
          "base_uri": "https://localhost:8080/",
          "height": 376
        },
        "outputId": "9abc6553-37d6-4cda-9629-dc5f26439e9c"
      },
      "cell_type": "code",
      "source": [
        "plt.plot(epochs,acc, 'bo',label='Training acc')\n",
        "plt.plot(epochs, val_acc, 'b', label='Validation acc')\n",
        "plt.title('Training and validation accuracy')\n",
        "plt.xlabel('Epochs')\n",
        "plt.ylabel('Accuracy')\n",
        "plt.legend()\n",
        "\n",
        "plt.show()"
      ],
      "execution_count": 34,
      "outputs": [
        {
          "output_type": "display_data",
          "data": {
            "image/png": "[encoded data removed]",
            "text/plain": [
              "<matplotlib.figure.Figure at 0x7fef05f18b50>"
            ]
          },
          "metadata": {
            "tags": []
          }
        }
      ]
    },
    {
      "metadata": {
        "id": "WA6qgXMic4CZ",
        "colab_type": "code",
        "colab": {}
      },
      "cell_type": "code",
      "source": [
        ""
      ],
      "execution_count": 0,
      "outputs": []
    }
  ]
}